{
 "cells": [
  {
   "cell_type": "code",
   "execution_count": 5,
   "metadata": {},
   "outputs": [],
   "source": [
    "import pandas as pd\n",
    "from sklearn.preprocessing import MinMaxScaler, StandardScaler\n",
    "import pandas as pd\n",
    "from sklearn.model_selection import train_test_split\n",
    "from sklearn.metrics import accuracy_score,roc_auc_score,classification_report,recall_score,precision_score\n",
    "from sklearn.linear_model import Lasso\n",
    "import numpy as np"
   ]
  },
  {
   "cell_type": "code",
   "execution_count": 6,
   "metadata": {},
   "outputs": [],
   "source": [
    "import json\n",
    "with open(r'F:\\Myproject\\ISBI-Lung-project\\five_fold_cv.json', 'r') as file:\n",
    "    file = json.load(file)\n"
   ]
  },
  {
   "cell_type": "code",
   "execution_count": 7,
   "metadata": {},
   "outputs": [],
   "source": [
    "def get_results(acc_list,auc_list,recall_list,precision_list):    \n",
    "    acc_list = np.array(acc_list)\n",
    "    auc_list = np.array(auc_list)\n",
    "    recall_list = np.array(recall_list)\n",
    "    precision_list = np.array(precision_list)\n",
    "    print(f'Recall, Average:{recall_list.mean():.4f}, Std:{recall_list.std():.4f}')\n",
    "    print(f'precision, Average:{precision_list.mean():.4f}, Std:{precision_list.std():.4f}')\n",
    "    print(f'Accuracy, Average:{acc_list.mean():.4f}, Std:{acc_list.std():.4f}')\n",
    "    print(f'AUC, Average:{auc_list.mean():.4f}, Std:{auc_list.std():.4f}')"
   ]
  },
  {
   "cell_type": "code",
   "execution_count": 1,
   "metadata": {},
   "outputs": [
    {
     "name": "stdout",
     "output_type": "stream",
     "text": [
      "Taining Fold1 .....\n"
     ]
    },
    {
     "ename": "NameError",
     "evalue": "name 'file' is not defined",
     "output_type": "error",
     "traceback": [
      "\u001b[0;31m---------------------------------------------------------------------------\u001b[0m",
      "\u001b[0;31mNameError\u001b[0m                                 Traceback (most recent call last)",
      "Cell \u001b[0;32mIn[1], line 12\u001b[0m\n\u001b[1;32m     10\u001b[0m \u001b[38;5;28;01mfor\u001b[39;00m fold \u001b[38;5;129;01min\u001b[39;00m \u001b[38;5;28mrange\u001b[39m(\u001b[38;5;241m5\u001b[39m):\n\u001b[1;32m     11\u001b[0m     \u001b[38;5;28mprint\u001b[39m(\u001b[38;5;124mf\u001b[39m\u001b[38;5;124m\"\u001b[39m\u001b[38;5;124mTaining Fold\u001b[39m\u001b[38;5;132;01m{\u001b[39;00mfold\u001b[38;5;241m+\u001b[39m\u001b[38;5;241m1\u001b[39m\u001b[38;5;132;01m}\u001b[39;00m\u001b[38;5;124m .....\u001b[39m\u001b[38;5;124m\"\u001b[39m)\n\u001b[0;32m---> 12\u001b[0m     test_file \u001b[38;5;241m=\u001b[39m \u001b[43mfile\u001b[49m[\u001b[38;5;124m'\u001b[39m\u001b[38;5;124mtest_split\u001b[39m\u001b[38;5;124m'\u001b[39m]\n\u001b[1;32m     13\u001b[0m     train_file \u001b[38;5;241m=\u001b[39m file[\u001b[38;5;124m'\u001b[39m\u001b[38;5;124mcross_validation\u001b[39m\u001b[38;5;124m'\u001b[39m][fold][\u001b[38;5;124m'\u001b[39m\u001b[38;5;124mtrain_files\u001b[39m\u001b[38;5;124m'\u001b[39m]\n\u001b[1;32m     14\u001b[0m     val_file \u001b[38;5;241m=\u001b[39m file[\u001b[38;5;124m'\u001b[39m\u001b[38;5;124mcross_validation\u001b[39m\u001b[38;5;124m'\u001b[39m][fold][\u001b[38;5;124m'\u001b[39m\u001b[38;5;124mvalidation_files\u001b[39m\u001b[38;5;124m'\u001b[39m]\n",
      "\u001b[0;31mNameError\u001b[0m: name 'file' is not defined"
     ]
    }
   ],
   "source": [
    "val_acc_list = []\n",
    "val_auc_list = []\n",
    "val_recall_list = []\n",
    "val_precision_list = []\n",
    "\n",
    "test_acc_list = []\n",
    "test_auc_list = []\n",
    "test_recall_list = []\n",
    "test_precision_list = []\n",
    "for fold in range(5):\n",
    "    print(f\"Taining Fold{fold+1} .....\")\n",
    "    test_file = file['test_split']\n",
    "    train_file = file['cross_validation'][fold]['train_files']\n",
    "    val_file = file['cross_validation'][fold]['validation_files']\n",
    "    \n",
    "    data = pd.read_csv(r'F:\\Myproject\\ISBI-Lung-project\\Lung_data.csv')\n",
    "    tarin_data = data[data['Image'].isin(train_file)]\n",
    "    val_data = data[data['Image'].isin(val_file)]\n",
    "    test_data = data[data['Image'].isin(test_file)]\n",
    "    train_x = tarin_data.iloc[:,:-2]\n",
    "    train_y = tarin_data[[\"label\"]]\n",
    "\n",
    "    val_x = val_data.iloc[:,:-2]\n",
    "    val_y = val_data[[\"label\"]]\n",
    "\n",
    "    test_x = test_data.iloc[:,:-2]\n",
    "    test_y = test_data[[\"label\"]]\n",
    "    \n",
    "    standard_scaler = StandardScaler()\n",
    "    train_x = standard_scaler.fit_transform(train_x)\n",
    "    val_x = standard_scaler.transform(val_x)\n",
    "    test_x = standard_scaler.transform(test_x)\n",
    "\n",
    "    model = Lasso(alpha=0.01)\n",
    "    # Train the model with validation data\n",
    "    model.fit(train_x, train_y)\n",
    "\n",
    "    # Get predicted probabilities\n",
    "    # -------------------validation----------------\n",
    "    y_pred_proba = model.predict(val_x)  # Get probabilities for the positive class\n",
    "    y_pred = model.predict(val_x)\n",
    "\n",
    "    accuracy = accuracy_score(val_y,  y_pred.round())\n",
    "    # print(f'Accuracy: {accuracy:.4f}')\n",
    "    val_acc_list.append(accuracy)\n",
    "    \n",
    "    auc_score = roc_auc_score(val_y, y_pred_proba)\n",
    "    # print(f'AUC Score: {auc_score:.4f}')\n",
    "    val_auc_list.append(auc_score)\n",
    "    \n",
    "    # Print the classification report\n",
    "    recall = recall_score(val_y,  y_pred.round())\n",
    "    # print(f'Recall Score: {recall:.4f}')\n",
    "    val_recall_list.append(recall)\n",
    "    \n",
    "    precision = precision_score(val_y,  y_pred.round())\n",
    "    # print(f'AUC Score: {precision:.4f}')\n",
    "    val_precision_list.append(precision)\n",
    "    \n",
    "    \n",
    "    # Get predicted probabilities\n",
    "    # -------------------testing--------------\n",
    "    y_pred_proba = model.predict(test_x)  # Get probabilities for the positive class\n",
    "    y_pred = model.predict(test_x)\n",
    "\n",
    "    accuracy = accuracy_score(test_y,  np.square(y_pred.round().astype(int)))\n",
    "    # print(f'Accuracy: {accuracy:.4f}')\n",
    "    test_acc_list.append(accuracy)\n",
    "    \n",
    "    auc_score = roc_auc_score(test_y, y_pred_proba)\n",
    "    # print(f'AUC Score: {auc_score:.4f}')\n",
    "    test_auc_list.append(auc_score)\n",
    "    \n",
    "    # Print the classification report\n",
    "    # print(test_y)\n",
    "    # print(np.square(y_pred.round().astype(int)))\n",
    "    recall = recall_score(test_y,  np.square(y_pred.round().astype(int)))\n",
    "    # print(f'Recall Score: {recall:.4f}')\n",
    "    test_recall_list.append(recall)\n",
    "    \n",
    "    precision = precision_score(test_y,  np.square(y_pred.round().astype(int)))\n",
    "    # print(f'AUC Score: {precision:.4f}')\n",
    "    test_precision_list.append(precision)\n",
    "    \n",
    "print('Validation set')\n",
    "get_results(val_acc_list,val_auc_list,val_recall_list,val_precision_list)\n",
    "print('--------------------')\n",
    "print(\"Test set\")\n",
    "get_results(test_acc_list,test_auc_list,test_recall_list,test_precision_list)\n",
    "print('================================================')"
   ]
  }
 ],
 "metadata": {
  "kernelspec": {
   "display_name": "radiomics",
   "language": "python",
   "name": "python3"
  },
  "language_info": {
   "codemirror_mode": {
    "name": "ipython",
    "version": 3
   },
   "file_extension": ".py",
   "mimetype": "text/x-python",
   "name": "python",
   "nbconvert_exporter": "python",
   "pygments_lexer": "ipython3",
   "version": "3.10.15"
  }
 },
 "nbformat": 4,
 "nbformat_minor": 2
}
