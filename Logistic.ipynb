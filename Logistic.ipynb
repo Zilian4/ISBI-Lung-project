{
 "cells": [
  {
   "cell_type": "code",
   "execution_count": 18,
   "metadata": {},
   "outputs": [],
   "source": [
    "import pandas as pd\n",
    "from sklearn.preprocessing import MinMaxScaler, StandardScaler\n",
    "import pandas as pd\n",
    "from sklearn.model_selection import train_test_split\n",
    "from sklearn.metrics import accuracy_score,roc_auc_score,classification_report,recall_score,precision_score\n",
    "from sklearn.linear_model import LogisticRegression\n",
    "import xgboost as xgb\n",
    "import numpy as np"
   ]
  },
  {
   "cell_type": "code",
   "execution_count": 19,
   "metadata": {},
   "outputs": [],
   "source": [
    "import json\n",
    "with open(r'./Folds/five_fold_cv.json', 'r') as file:\n",
    "    file = json.load(file)\n"
   ]
  },
  {
   "cell_type": "code",
   "execution_count": 20,
   "metadata": {},
   "outputs": [],
   "source": [
    "def get_results(acc_list,auc_list,recall_list,precision_list):    \n",
    "    acc_list = np.array(acc_list)\n",
    "    auc_list = np.array(auc_list)\n",
    "    recall_list = np.array(recall_list)\n",
    "    precision_list = np.array(precision_list)\n",
    "    print(f'Recall, Average:{recall_list.mean():.4f}, Std:{recall_list.std():.4f}')\n",
    "    print(f'precision, Average:{precision_list.mean():.4f}, Std:{precision_list.std():.4f}')\n",
    "    print(f'Accuracy, Average:{acc_list.mean():.4f}, Std:{acc_list.std():.4f}')\n",
    "    print(f'AUC, Average:{auc_list.mean():.4f}, Std:{auc_list.std():.4f}')"
   ]
  },
  {
   "cell_type": "code",
   "execution_count": 21,
   "metadata": {},
   "outputs": [
    {
     "name": "stdout",
     "output_type": "stream",
     "text": [
      "Taining Fold1 .....\n",
      "Taining Fold2 .....\n",
      "Taining Fold3 .....\n",
      "Taining Fold4 .....\n"
     ]
    },
    {
     "name": "stderr",
     "output_type": "stream",
     "text": [
      "/opt/anaconda3/envs/medical-image/lib/python3.10/site-packages/sklearn/utils/validation.py:1339: DataConversionWarning: A column-vector y was passed when a 1d array was expected. Please change the shape of y to (n_samples, ), for example using ravel().\n",
      "  y = column_or_1d(y, warn=True)\n",
      "/opt/anaconda3/envs/medical-image/lib/python3.10/site-packages/sklearn/utils/validation.py:1339: DataConversionWarning: A column-vector y was passed when a 1d array was expected. Please change the shape of y to (n_samples, ), for example using ravel().\n",
      "  y = column_or_1d(y, warn=True)\n",
      "/opt/anaconda3/envs/medical-image/lib/python3.10/site-packages/sklearn/utils/validation.py:1339: DataConversionWarning: A column-vector y was passed when a 1d array was expected. Please change the shape of y to (n_samples, ), for example using ravel().\n",
      "  y = column_or_1d(y, warn=True)\n",
      "/opt/anaconda3/envs/medical-image/lib/python3.10/site-packages/sklearn/utils/validation.py:1339: DataConversionWarning: A column-vector y was passed when a 1d array was expected. Please change the shape of y to (n_samples, ), for example using ravel().\n",
      "  y = column_or_1d(y, warn=True)\n"
     ]
    },
    {
     "name": "stdout",
     "output_type": "stream",
     "text": [
      "Taining Fold5 .....\n"
     ]
    },
    {
     "name": "stderr",
     "output_type": "stream",
     "text": [
      "/opt/anaconda3/envs/medical-image/lib/python3.10/site-packages/sklearn/utils/validation.py:1339: DataConversionWarning: A column-vector y was passed when a 1d array was expected. Please change the shape of y to (n_samples, ), for example using ravel().\n",
      "  y = column_or_1d(y, warn=True)\n"
     ]
    }
   ],
   "source": [
    "val_acc_list = []\n",
    "val_auc_list = []\n",
    "val_recall_list = []\n",
    "val_precision_list = []\n",
    "\n",
    "test_acc_list = []\n",
    "test_auc_list = []\n",
    "test_recall_list = []\n",
    "test_precision_list = []\n",
    "for fold in range(5):\n",
    "    print(f\"Taining Fold{fold+1} .....\")\n",
    "    test_file = file['test_split']\n",
    "    train_file = file['cross_validation'][fold]['train_files']\n",
    "    val_file = file['cross_validation'][fold]['validation_files']\n",
    "    \n",
    "    data = pd.read_csv(r'./data/Lung_data.csv')\n",
    "    tarin_data = data[data['Image'].isin(train_file)]\n",
    "    val_data = data[data['Image'].isin(val_file)]\n",
    "    test_data = data[data['Image'].isin(test_file)]\n",
    "\n",
    "    train_x = tarin_data.iloc[:,:-2]\n",
    "    train_y = tarin_data[[\"label\"]]\n",
    "\n",
    "    val_x = val_data.iloc[:,:-2]\n",
    "    val_y = val_data[[\"label\"]]\n",
    "\n",
    "    test_x = test_data.iloc[:,:-2]\n",
    "    test_y = test_data[[\"label\"]]\n",
    "    \n",
    "    standard_scaler = StandardScaler()\n",
    "    train_x = standard_scaler.fit_transform(train_x)\n",
    "    val_x = standard_scaler.transform(val_x)\n",
    "    test_x = standard_scaler.transform(test_x)\n",
    "\n",
    "    model = LogisticRegression()\n",
    "    # Train the model with validation data\n",
    "    model.fit(train_x, train_y)\n",
    "    \n",
    "    \n",
    "    # -------------------validation----------------\n",
    "    \n",
    "    y_pred_proba = model.predict_proba(val_x)[:, 1]  # Get probabilities for the positive class\n",
    "    y_pred = model.predict(val_x)\n",
    "\n",
    "    accuracy = accuracy_score(val_y,  y_pred)\n",
    "    # print(f'Accuracy: {accuracy:.4f}')\n",
    "    val_acc_list.append(accuracy)\n",
    "    \n",
    "    auc_score = roc_auc_score(val_y, y_pred_proba)\n",
    "    # print(f'AUC Score: {auc_score:.4f}')\n",
    "    val_auc_list.append(auc_score)\n",
    "    \n",
    "    # Print the classification report\n",
    "    recall = recall_score(val_y,  y_pred)\n",
    "    # print(f'Recall Score: {recall:.4f}')\n",
    "    val_recall_list.append(recall)\n",
    "    \n",
    "    precision = precision_score(val_y,  y_pred)\n",
    "    # print(f'AUC Score: {precision:.4f}')\n",
    "    val_precision_list.append(precision)\n",
    "    \n",
    "    \n",
    "    # Get predicted probabilities\n",
    "    # -------------------testing--------------\n",
    "    \n",
    "    y_pred_proba = model.predict_proba(test_x)[:, 1]  # Get probabilities for the positive class\n",
    "    y_pred = model.predict(test_x)\n",
    "\n",
    "    accuracy = accuracy_score(test_y,  y_pred)\n",
    "    # print(f'Accuracy: {accuracy:.4f}')\n",
    "    test_acc_list.append(accuracy)\n",
    "    \n",
    "    auc_score = roc_auc_score(test_y, y_pred_proba)\n",
    "    # print(f'AUC Score: {auc_score:.4f}')\n",
    "    test_auc_list.append(auc_score)\n",
    "    \n",
    "\n",
    "    recall = recall_score(test_y,  y_pred)\n",
    "    # print(f'Recall Score: {recall:.4f}')\n",
    "    test_recall_list.append(recall)\n",
    "    \n",
    "    precision = precision_score(test_y,  y_pred)\n",
    "    # print(f'AUC Score: {precision:.4f}')\n",
    "    test_precision_list.append(precision)"
   ]
  },
  {
   "cell_type": "code",
   "execution_count": 22,
   "metadata": {},
   "outputs": [
    {
     "name": "stdout",
     "output_type": "stream",
     "text": [
      "Validation set\n",
      "Recall, Average:0.6418, Std:0.0489\n",
      "precision, Average:0.6879, Std:0.1047\n",
      "Accuracy, Average:0.6936, Std:0.0548\n",
      "AUC, Average:0.7237, Std:0.0477\n",
      "--------------------\n",
      "Test set\n",
      "Recall, Average:0.7167, Std:0.0850\n",
      "precision, Average:0.6972, Std:0.0592\n",
      "Accuracy, Average:0.7882, Std:0.0343\n",
      "AUC, Average:0.8530, Std:0.0442\n",
      "================================================\n"
     ]
    }
   ],
   "source": [
    "print('Validation set')\n",
    "get_results(val_acc_list,val_auc_list,val_recall_list,val_precision_list)\n",
    "print('--------------------')\n",
    "print(\"Test set\")\n",
    "get_results(test_acc_list,test_auc_list,test_recall_list,test_precision_list)\n",
    "print('================================================')"
   ]
  }
 ],
 "metadata": {
  "kernelspec": {
   "display_name": "radiomics",
   "language": "python",
   "name": "python3"
  },
  "language_info": {
   "codemirror_mode": {
    "name": "ipython",
    "version": 3
   },
   "file_extension": ".py",
   "mimetype": "text/x-python",
   "name": "python",
   "nbconvert_exporter": "python",
   "pygments_lexer": "ipython3",
   "version": "3.10.15"
  }
 },
 "nbformat": 4,
 "nbformat_minor": 2
}
